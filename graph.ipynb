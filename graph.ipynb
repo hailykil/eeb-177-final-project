{
 "cells": [
  {
   "cell_type": "code",
   "execution_count": 5,
   "metadata": {
    "collapsed": false
   },
   "outputs": [],
   "source": [
    "in_file = open(\"/home/eeb177-student/Desktop/eeb-177/eeb-177-final-project/irvingtonian.txt\")\n",
    "in_file.readline()\n",
    "occurence = {}\n",
    "for line in in_file:\n",
    "    items = line.split(\",\")\n",
    "    species = items[1]\n",
    "    occurence_data = float(items[0])\n",
    "    \n",
    "    occurence[species] = occurence_data"
   ]
  },
  {
   "cell_type": "code",
   "execution_count": 6,
   "metadata": {
    "collapsed": false
   },
   "outputs": [
    {
     "data": {
      "text/plain": [
       "{'Arctodus cf. pristinus': 198989.0,\n",
       " 'Arctodus n. sp. haplodon': 198516.0,\n",
       " 'Arctodus pristinus': 198906.0,\n",
       " 'Arctodus simus': 198675.0,\n",
       " 'Euarctos americanus': 198515.0,\n",
       " 'Euarctos vitabilis': 1034198.0,\n",
       " 'Tremarctos floridanus': 198874.0,\n",
       " 'Ursus (Euarctos) cf. americanus': 1034152.0,\n",
       " 'Ursus americanus': 199071.0,\n",
       " 'Ursus n. sp. haplodon': 1237484.0}"
      ]
     },
     "execution_count": 6,
     "metadata": {},
     "output_type": "execute_result"
    }
   ],
   "source": [
    "occurence"
   ]
  },
  {
   "cell_type": "code",
   "execution_count": 16,
   "metadata": {
    "collapsed": false
   },
   "outputs": [
    {
     "data": {
      "image/png": "[encoded data removed]",
      "text/plain": [
       "<matplotlib.figure.Figure at 0x7f2444b12ef0>"
      ]
     },
     "metadata": {},
     "output_type": "display_data"
    }
   ],
   "source": [
    "import numpy as np\n",
    "import matplotlib.pyplot as plt\n",
    "\n",
    "\n",
    "n_groups = 10\n",
    "\n",
    "occurence = (198989, 198516, 198906, 198675, 198515, 1034198, 198874, 1034152, 199071, 1237484)\n",
    "\n",
    "fig, ax = plt.subplots()\n",
    "\n",
    "index = np.arange(n_groups)\n",
    "bar_width = 0.35\n",
    "\n",
    "opacity = 0.4\n",
    "\n",
    "rects1 = plt.bar(index, occurence, bar_width,\n",
    "                 alpha=opacity,\n",
    "                 color='b',\n",
    "                 label='Irvingtonian')\n",
    "\n",
    "plt.xlabel('species')\n",
    "plt.ylabel('occurence')\n",
    "plt.title('Occurences of unique species in Irvingtonian period')\n",
    "plt.xticks(index + bar_width / 2, ('Arctodus cf. pristinus', 'Arctodus n. sp. haplodon', 'Arctodus pristinus', 'Arctodus simus', 'Euarctos americanus', 'Euarctos vitabilis', 'Tremarctos floridanus', 'Ursus (Euarctos) cf. americanus', 'Ursus americanus', 'Ursus n. sp. haplodon'))\n",
    "plt.legend()\n",
    "\n",
    "plt.tight_layout()\n",
    "plt.show()"
   ]
  }
 ],
 "metadata": {
  "anaconda-cloud": {},
  "kernelspec": {
   "display_name": "Python [default]",
   "language": "python",
   "name": "python3"
  },
  "language_info": {
   "codemirror_mode": {
    "name": "ipython",
    "version": 3
   },
   "file_extension": ".py",
   "mimetype": "text/x-python",
   "name": "python",
   "nbconvert_exporter": "python",
   "pygments_lexer": "ipython3",
   "version": "3.5.2"
  }
 },
 "nbformat": 4,
 "nbformat_minor": 2
}

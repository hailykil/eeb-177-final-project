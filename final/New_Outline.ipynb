{
 "cells": [
  {
   "cell_type": "markdown",
   "metadata": {},
   "source": [
    "# Final project\n",
    "\n",
    "\n",
    "\n",
    "```\n",
    "\n",
    "I am interested in looking at the extinction rate of bird species that is native to North America. The csv file that contained the list of native North America bird species were taken from the American Birding Association (citation).\n",
    "\n",
    "Before looking at the extinction rate, I want to look at the general occurrences of my choice of bird family worldwide. The data with all necessary information are taken from the Paleobiology Database (https://paleobiodb.org)\n",
    "\n",
    "Ultimately, I will demonstrate the extinction rate of my choice of bird species --native to North America-- using PyRate\n",
    "\n",
    "```"
   ]
  },
  {
   "cell_type": "markdown",
   "metadata": {},
   "source": [
    "### Preparation of the dataset\n",
    "\n",
    "\n",
    "```\n",
    "1. Selected a family of bird that is native to North America from American Birding Association (listing.aba.org/aba-checklist)\n",
    "\n",
    "2. Selected Anatidae (ducks, geese, and swan)\n",
    "\n",
    "3. shell command used to extract unique species, their occurrences, and the time interval in which they existed from:\n",
    "cut -d ',' -f1,6,7,9 anatidae.csv | tail -n+2 | grep \"species\" | uniq\n",
    "\n",
    "4. grep \"species\" bird_data.csv | wc -l showed 403 species in Anatidae family\n",
    "\n",
    "```"
   ]
  },
  {
   "cell_type": "code",
   "execution_count": 6,
   "metadata": {
    "collapsed": false
   },
   "outputs": [],
   "source": [
    "# function 1\n",
    "# make a dictionary that lists the unique Anatidae species to the time interval where the fossil records were found\n",
    "\n",
    "def makebirdDict(filename): # makes a new function called makebirdDict\n",
    "    birdDict = {} # creates an empty dictionary\n",
    "    fobj = open(filename, \"r\", encoding = \"ISO-8859-15\") # opens the file\n",
    "    all_records = fobj.readlines()[1:] # read the file starting from line 1\n",
    "    for line in all_records:\n",
    "        line = line.strip().strip('\\n') # removing unnecessary empty lines\n",
    "        record_elements = line.split(\",\") # have to split the lines due to delimiters\n",
    "        species = record_elements[1] # read the second column of the file\n",
    "        interval = record_elements[3] # read the fourth column of the file\n",
    "        birdDict[species] = interval # matches the species to the interval\n",
    "    return birdDict"
   ]
  },
  {
   "cell_type": "code",
   "execution_count": 7,
   "metadata": {
    "collapsed": false,
    "scrolled": true
   },
   "outputs": [
    {
     "data": {
      "text/plain": [
       "{'\"Aix sponsa\"': '\"Pleistocene\"',\n",
       " '\"Anabernicula gracilenta\"': '\"Blancan\"',\n",
       " '\"Anabernicula oregonensis\"': '\"Late Pleistocene\"',\n",
       " '\"Anas acuta\"': '\"Late Pleistocene\"',\n",
       " '\"Anas americana\"': '\"Late Pleistocene\"',\n",
       " '\"Anas amotape\"': '\"Late Pleistocene\"',\n",
       " '\"Anas carolinensis\"': '\"Late Pleistocene\"',\n",
       " '\"Anas chlorotis\"': '\"Pleistocene\"',\n",
       " '\"Anas clypeata\"': '\"Blancan\"',\n",
       " '\"Anas crecca\"': '\"Blancan\"',\n",
       " '\"Anas cyanoptera\"': '\"Late Pleistocene\"',\n",
       " '\"Anas discors\"': '\"Blancan\"',\n",
       " '\"Anas gracilipes\"': '\"Late Pleistocene\"',\n",
       " '\"Anas itchtucknee\"': '\"Late Pleistocene\"',\n",
       " '\"Anas kurochkini\"': '\"Turolian\"',\n",
       " '\"Anas platyrhynchos\"': '\"Holocene\"',\n",
       " '\"Anas sanctaehelenae\"': '\"Late Pleistocene\"',\n",
       " '\"Anas schneideri\"': '\"Late Pleistocene\"',\n",
       " '\"Anas talarae\"': '\"Late Pleistocene\"',\n",
       " '\"Anser albifrons\"': '\"Late Pleistocene\"',\n",
       " '\"Anser arizonae\"': '\"Zanclean\"',\n",
       " '\"Anser condoni\"': '\"Pleistocene\"',\n",
       " '\"Archaeocycnus lacustris\"': '\"Late Pleistocene\"',\n",
       " '\"Aythya affinis\"': '\"Late Pleistocene\"',\n",
       " '\"Aythya americana\"': '\"Pleistocene\"',\n",
       " '\"Aythya collaris\"': '\"Late Pleistocene\"',\n",
       " '\"Aythya marila\"': '\"Pleistocene\"',\n",
       " '\"Aythya valisineria\"': '\"Blancan\"',\n",
       " '\"Bambolinetta lignitifila\"': '\"Late Miocene\"',\n",
       " '\"Branta bernicla\"': '\"Late Pleistocene\"',\n",
       " '\"Branta canadensis\"': '\"Irvingtonian\"',\n",
       " '\"Branta hylobadistes\"': '\"Holocene\"',\n",
       " '\"Branta hypsibata\"': '\"Late Pleistocene\"',\n",
       " '\"Branta propinqua\"': '\"Late Pleistocene\"',\n",
       " '\"Branta ruficollis\"': '\"Pleistocene\"',\n",
       " '\"Branta woolfendeni\"': '\"Early Barstovian\"',\n",
       " '\"Bucephala albeola\"': '\"Late Pleistocene\"',\n",
       " '\"Bucephala clangula\"': '\"Zanclean\"',\n",
       " '\"Bucephala ossivallis\"': '\"Barstovian\"',\n",
       " '\"Chelychelynechen quassus\"': '\"Holocene\"',\n",
       " '\"Chen caerulescens\"': '\"Pleistocene\"',\n",
       " '\"Chen hyperborea\"': '\"Late Pleistocene\"',\n",
       " '\"Chen pressa\"': '\"Late Pliocene\"',\n",
       " '\"Chen rossii\"': '\"Late Pleistocene\"',\n",
       " '\"Chendytes lawi\"': '\"Pleistocene\"',\n",
       " '\"Chenonetta finschi\"': '\"Pleistocene\"',\n",
       " '\"Cnemiornis calcitrans\"': '\"Late Pleistocene\"',\n",
       " '\"Cygnus atratus\"': '\"Late Pleistocene\"',\n",
       " '\"Cygnus columbianus\"': '\"Irvingtonian\"',\n",
       " '\"Cygnus hibbardi\"': '\"Late Pliocene\"',\n",
       " '\"Cygnus paloregonus\"': '\"Late Pleistocene\"',\n",
       " '\"Dendrochen robusta\"': '\"Hemingfordian\"',\n",
       " '\"Dendrocygna arborea\"': '\"Late Pleistocene\"',\n",
       " '\"Dendrocygna autumnalis\"': '\"Late Pleistocene\"',\n",
       " '\"Dunstanetta johnstoneorum\"': '\"Altonian\"',\n",
       " '\"Eonessa anaticula\"': '\"Uintan\"',\n",
       " '\"Eremochen russelli\"': '\"Clarendonian\"',\n",
       " '\"Geochen rhuax\"': '\"Holocene\"',\n",
       " '\"Helonetta brodkorbi\"': '\"Blancan\"',\n",
       " '\"Hymenolaimus malacorhynchos\"': '\"Late Pleistocene\"',\n",
       " '\"Lophodytes cucullatus\"': '\"Pleistocene\"',\n",
       " '\"Manuherikia douglasi\"': '\"Altonian\"',\n",
       " '\"Manuherikia lacustrina\"': '\"Altonian\"',\n",
       " '\"Manuherikia minuta\"': '\"Altonian\"',\n",
       " '\"Matanas enrighti\"': '\"Altonian\"',\n",
       " '\"Melanitta ceruttii\"': '\"Blancan\"',\n",
       " '\"Melanitta fusca\"': '\"Holocene\"',\n",
       " '\"Melanitta nigra\"': '\"Holocene\"',\n",
       " '\"Melanitta perspicillata\"': '\"Late Pleistocene\"',\n",
       " '\"Mergus australis\"': '\"Late Pleistocene\"',\n",
       " '\"Mergus merganser\"': '\"Holocene\"',\n",
       " '\"Mergus serrator\"': '\"Holocene\"',\n",
       " '\"Miotadorna sanctibathansi\"': '\"Altonian\"',\n",
       " '\"Nannonetta invisitata\"': '\"Late Pleistocene\"',\n",
       " '\"Neochen barbadiana\"': '\"Late Pleistocene\"',\n",
       " '\"Nettapus eyrensis\"': '\"Late Pleistocene\"',\n",
       " '\"Nettion bunkeri\"': '\"Hemphillian\"',\n",
       " '\"Nettion greeni\"': '\"Clarendonian\"',\n",
       " '\"Nettion ogallalae\"': '\"Clarendonian\"',\n",
       " '\"Ocyplonessa shotwelli\"': '\"Clarendonian\"',\n",
       " '\"Olar buccinator\"': '\"Late Pleistocene\"',\n",
       " '\"Oxyura hulberti\"': '\"Blancan\"',\n",
       " '\"Oxyura jamaicensis\"': '\"Late Pleistocene\"',\n",
       " '\"Oxyura zapatanima\"': '\"Pleistocene\"',\n",
       " '\"Presbychen abavus\"': '\"Langhian\"',\n",
       " '\"Protomelanitta bakeri\"': '\"Clarendonian\"',\n",
       " '\"Ptaiochen pau\"': '\"Holocene\"',\n",
       " '\"Querquedula floridiana\"': '\"Late Pleistocene\"',\n",
       " '\"Querquedula integra\"': '\"Hemingfordian\"',\n",
       " '\"Querquedula pullulans\"': '\"Clarendonian\"',\n",
       " '\"Shiriyanetta hasegawai\"': '\"Late Pleistocene\"',\n",
       " '\"Somateria mollissima\"': '\"Holocene\"',\n",
       " '\"Tadorna tadornoides\"': '\"Pleistocene\"',\n",
       " '\"Tadorna variegata\"': '\"Late Pleistocene\"',\n",
       " '\"Thambetochen chauliodous\"': '\"Late Pleistocene\"',\n",
       " '\"Thambetochen xanion\"': '\"Late Pleistocene\"'}"
      ]
     },
     "execution_count": 7,
     "metadata": {},
     "output_type": "execute_result"
    }
   ],
   "source": [
    "bird = makebirdDict(\"bird_data.csv\")\n",
    "species = list(bird.keys())\n",
    "species.sort() #sort the list alphabetically\n",
    "bird"
   ]
  },
  {
   "cell_type": "code",
   "execution_count": null,
   "metadata": {
    "collapsed": true
   },
   "outputs": [],
   "source": []
  }
 ],
 "metadata": {
  "anaconda-cloud": {},
  "kernelspec": {
   "display_name": "Python [default]",
   "language": "python",
   "name": "python3"
  },
  "language_info": {
   "codemirror_mode": {
    "name": "ipython",
    "version": 3
   },
   "file_extension": ".py",
   "mimetype": "text/x-python",
   "name": "python",
   "nbconvert_exporter": "python",
   "pygments_lexer": "ipython3",
   "version": "3.5.2"
  }
 },
 "nbformat": 4,
 "nbformat_minor": 2
}
